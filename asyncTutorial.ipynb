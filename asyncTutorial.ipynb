{
 "cells": [
  {
   "cell_type": "code",
   "execution_count": 1,
   "metadata": {},
   "outputs": [],
   "source": [
    "from tqdm import tqdm\n",
    "import time\n",
    "import asyncio\n",
    "import nest_asyncio\n",
    "nest_asyncio.apply()"
   ]
  },
  {
   "cell_type": "markdown",
   "metadata": {},
   "source": [
    "This is based on demonstration from this tutorial\n",
    "https://www.youtube.com/watch?v=g9HyOWr6d9M\n",
    "https://gist.github.com/nikhilkumarsingh/be174036a47d50ca4a7a9c48885f534c"
   ]
  },
  {
   "cell_type": "code",
   "execution_count": 2,
   "metadata": {},
   "outputs": [
    {
     "name": "stderr",
     "output_type": "stream",
     "text": [
      "100%|██████████| 50/50 [00:10<00:00,  4.88it/s]\n"
     ]
    }
   ],
   "source": [
    "N = 50\n",
    "def foo(a):\n",
    "    time.sleep(0.2)\n",
    "    return a**2\n",
    "\n",
    "x = [foo(i) for i in tqdm(range(N))]"
   ]
  },
  {
   "cell_type": "code",
   "execution_count": 3,
   "metadata": {},
   "outputs": [
    {
     "name": "stderr",
     "output_type": "stream",
     "text": [
      "100%|██████████| 50/50 [00:00<00:00, 244.75it/s]\n"
     ]
    }
   ],
   "source": [
    "async def afoo(a):\n",
    "    await asyncio.sleep(0.2)\n",
    "    return a**2\n",
    "\n",
    "async def do1():\n",
    "    tasks = list(map(afoo, range(N)))\n",
    "    return [await t for t in tqdm(asyncio.as_completed(tasks), total=N)]\n",
    "\n",
    "x = asyncio.run(do1())"
   ]
  },
  {
   "cell_type": "code",
   "execution_count": null,
   "metadata": {},
   "outputs": [],
   "source": []
  }
 ],
 "metadata": {
  "interpreter": {
   "hash": "8af6dd5312795703626c3a4ecea14c70d5ddf399d8cdf6a820174c11729578c0"
  },
  "kernelspec": {
   "display_name": "Python 3.9.4 64-bit ('coding': virtualenv)",
   "name": "python3"
  },
  "language_info": {
   "codemirror_mode": {
    "name": "ipython",
    "version": 3
   },
   "file_extension": ".py",
   "mimetype": "text/x-python",
   "name": "python",
   "nbconvert_exporter": "python",
   "pygments_lexer": "ipython3",
   "version": "3.9.4"
  },
  "orig_nbformat": 4
 },
 "nbformat": 4,
 "nbformat_minor": 2
}
